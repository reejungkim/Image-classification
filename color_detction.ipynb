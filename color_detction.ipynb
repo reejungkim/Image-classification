{
 "cells": [
  {
   "cell_type": "code",
   "execution_count": 22,
   "metadata": {},
   "outputs": [
    {
     "name": "stdout",
     "output_type": "stream",
     "text": [
      "1993\n",
      "3035336\n",
      "area portion: 0.0006565994670771209\n"
     ]
    }
   ],
   "source": [
    "import numpy as np\n",
    "\n",
    "from PIL import Image\n",
    "\n",
    "import cv2\n",
    "import matplotlib.pyplot as plt\n",
    "import matplotlib.image as mpimg\n",
    "\n",
    "\n",
    "# Open image and make into numpy array\n",
    "im=np.array(Image.open(\"img/zigbang.png\").convert('RGB'))\n",
    "\n",
    "# Work out what we are looking for\n",
    "sought = [254,254,254]\n",
    "\n",
    "# Find all pixels where the 3 RGB values match \"sought\", and count them\n",
    "result = np.count_nonzero(np.all(im==sought,axis=2))\n",
    "print(result)\n",
    "\n",
    "total = np.count_nonzero(im)\n",
    "print(total)\n",
    "\n",
    "print('area portion: ' + str( result /total) )\n",
    "\n"
   ]
  },
  {
   "cell_type": "markdown",
   "metadata": {},
   "source": [
    "#np.array(Image.open(\"img/zigbang.png\"))\n",
    "\n",
    "\n",
    "image = cv2.imread('img/zigbang.png', cv2.COLOR_BGR2RGB )#cv2.IMREAD_COLOR)\n",
    "plt.imshow(image)"
   ]
  },
  {
   "cell_type": "code",
   "execution_count": null,
   "metadata": {},
   "outputs": [],
   "source": []
  }
 ],
 "metadata": {
  "interpreter": {
   "hash": "e47b1a34c05c1e3b83a62d7885c9d1b5ef8a0522d3be0182d0a008ec409b2b3d"
  },
  "kernelspec": {
   "display_name": "Python 3.7.11 ('myenv')",
   "language": "python",
   "name": "python3"
  },
  "language_info": {
   "codemirror_mode": {
    "name": "ipython",
    "version": 3
   },
   "file_extension": ".py",
   "mimetype": "text/x-python",
   "name": "python",
   "nbconvert_exporter": "python",
   "pygments_lexer": "ipython3",
   "version": "3.7.11"
  },
  "orig_nbformat": 4
 },
 "nbformat": 4,
 "nbformat_minor": 2
}
