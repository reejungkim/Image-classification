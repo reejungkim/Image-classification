{
 "cells": [
  {
   "cell_type": "code",
   "execution_count": 3,
   "metadata": {},
   "outputs": [
    {
     "name": "stdout",
     "output_type": "stream",
     "text": [
      "CORREL    \timg1 :   1.00\timg2 :   1.00\t\n",
      "CHISQR    \timg1 :   0.00\timg2 :   1.93\t\n",
      "INTERSECT \timg1 :   1.00\timg2 :   0.94\t\n",
      "BHATTACHARYYA\timg1 :   0.00\timg2 :   0.09\t\n",
      "EMD       \timg1 :   0.00\timg2 :   1.79\t\n"
     ]
    }
   ],
   "source": [
    "import cv2\n",
    "import numpy as np\n",
    "import matplotlib.pylab as plt\n",
    "\n",
    "# 이미지 읽어오기\n",
    "imgs = []\n",
    "imgs.append(cv2.imread('/Users/reejungkim/Documents/Git/Image classification/img/1.jpg'))\n",
    "imgs.append(cv2.imread('/Users/reejungkim/Documents/Git/Image classification/img/2.jpg'))\n",
    "\n",
    "hists = []\n",
    "for img in imgs:\n",
    "    # BGR 이미지를 HSV 이미지로 변환\n",
    "    hsv = cv2.cvtColor(img, cv2.COLOR_BGR2HSV)\n",
    "    # 히스토그램 연산(파라미터 순서 : 이미지, 채널, Mask, 크기, 범위)\n",
    "    hist = cv2.calcHist([hsv], [0, 1], None, [180, 256], [0, 180, 0, 256])\n",
    "    # 정규화(파라미터 순서 : 정규화 전 데이터, 정규화 후 데이터, 시작 범위, 끝 범위, 정규화 알고리즘)\n",
    "    cv2.normalize(hist, hist, 0, 1, cv2.NORM_MINMAX)\n",
    "    # hists 리스트에 저장\n",
    "    hists.append(hist)\n",
    "\n",
    "# 1번째 이미지를 원본으로 지정\n",
    "query = hists[0]\n",
    "\n",
    "# 비교 알고리즘의 이름들을 리스트에 저장\n",
    "methods = ['CORREL', 'CHISQR', 'INTERSECT', 'BHATTACHARYYA', 'EMD']\n",
    "\n",
    "# 5회 반복(5개 비교 알고리즘을 모두 사용)\n",
    "for index, name in enumerate(methods):\n",
    "    #비교 알고리즘 이름 출력(문자열 포맷팅 및 탭 적용)\n",
    "    print('%-10s' % name, end = '\\t')  \n",
    "    \n",
    "    #2회 반복(2장의 이미지에 대해 비교 연산 적용)\n",
    "    for i, histogram in enumerate(hists):\n",
    "        ret = cv2.compareHist(query, histogram, index) \n",
    "        \n",
    "        if index == cv2.HISTCMP_INTERSECT:                   # 교차 분석인 경우 \n",
    "            ret = ret/np.sum(query)                          # 원본으로 나누어 1로 정규화\n",
    "            \n",
    "        print(\"img%d :%7.2f\"% (i+1 , ret), end='\\t')        # 비교 결과 출력\n",
    "\n",
    "    print()     "
   ]
  },
  {
   "cell_type": "code",
   "execution_count": null,
   "metadata": {},
   "outputs": [],
   "source": []
  }
 ],
 "metadata": {
  "interpreter": {
   "hash": "8814a66d0c6ee5091186364dc57e3b89f0babd2556ec5a82c2d35416ef196c23"
  },
  "kernelspec": {
   "display_name": "Python 3.7.13 ('airflow')",
   "language": "python",
   "name": "python3"
  },
  "language_info": {
   "codemirror_mode": {
    "name": "ipython",
    "version": 3
   },
   "file_extension": ".py",
   "mimetype": "text/x-python",
   "name": "python",
   "nbconvert_exporter": "python",
   "pygments_lexer": "ipython3",
   "version": "3.7.13"
  },
  "orig_nbformat": 4
 },
 "nbformat": 4,
 "nbformat_minor": 2
}
